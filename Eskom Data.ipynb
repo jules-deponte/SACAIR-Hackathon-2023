{
  "cells": [
    {
      "cell_type": "code",
      "source": [
        "!git clone https://github.com/jules-deponte-entelect/SACAIR-Hackathon-2023"
      ],
      "metadata": {
        "id": "hih9I-4aeG2H",
        "outputId": "6f219718-c552-427a-d8eb-3f5dc2d35188",
        "colab": {
          "base_uri": "https://localhost:8080/"
        }
      },
      "execution_count": 1,
      "outputs": [
        {
          "output_type": "stream",
          "name": "stdout",
          "text": [
            "Cloning into 'SACAIR-Hackathon-2023'...\n",
            "remote: Enumerating objects: 33, done.\u001b[K\n",
            "remote: Counting objects: 100% (8/8), done.\u001b[K\n",
            "remote: Compressing objects: 100% (7/7), done.\u001b[K\n",
            "remote: Total 33 (delta 1), reused 1 (delta 1), pack-reused 25\u001b[K\n",
            "Receiving objects: 100% (33/33), 34.62 MiB | 20.09 MiB/s, done.\n",
            "Resolving deltas: 100% (5/5), done.\n"
          ]
        }
      ]
    },
    {
      "cell_type": "code",
      "execution_count": null,
      "metadata": {
        "id": "aS-KnKLCeF0v"
      },
      "outputs": [],
      "source": [
        "import pandas as pd\n",
        "from datetime import datetime as dt\n",
        "import numpy as np"
      ]
    }
  ],
  "metadata": {
    "kernelspec": {
      "display_name": "Python 3",
      "language": "python",
      "name": "python3"
    },
    "language_info": {
      "codemirror_mode": {
        "name": "ipython",
        "version": 3
      },
      "file_extension": ".py",
      "mimetype": "text/x-python",
      "name": "python",
      "nbconvert_exporter": "python",
      "pygments_lexer": "ipython3",
      "version": "3.10.10"
    },
    "colab": {
      "provenance": []
    }
  },
  "nbformat": 4,
  "nbformat_minor": 0
}